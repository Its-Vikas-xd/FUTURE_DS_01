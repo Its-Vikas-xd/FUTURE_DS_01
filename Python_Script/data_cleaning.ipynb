{
 "cells": [
  {
   "cell_type": "markdown",
   "id": "de928966",
   "metadata": {},
   "source": [
    "# Flipkart Sales Data"
   ]
  },
  {
   "cell_type": "markdown",
   "id": "a4c2853c",
   "metadata": {},
   "source": [
    "## Important library"
   ]
  },
  {
   "cell_type": "code",
   "execution_count": 32,
   "id": "cf46eb60",
   "metadata": {},
   "outputs": [],
   "source": [
    "import pandas as pd\n",
    "import numpy as np\n",
    "import seaborn as sns\n",
    "import matplotlib.pyplot as plt\n",
    "from sklearn.impute import SimpleImputer\n",
    "from sklearn.preprocessing import MinMaxScaler\n"
   ]
  },
  {
   "cell_type": "markdown",
   "id": "8680a31d",
   "metadata": {},
   "source": [
    "## load dataset"
   ]
  },
  {
   "cell_type": "code",
   "execution_count": 33,
   "id": "d7ba634b",
   "metadata": {},
   "outputs": [
    {
     "data": {
      "text/html": [
       "<div>\n",
       "<style scoped>\n",
       "    .dataframe tbody tr th:only-of-type {\n",
       "        vertical-align: middle;\n",
       "    }\n",
       "\n",
       "    .dataframe tbody tr th {\n",
       "        vertical-align: top;\n",
       "    }\n",
       "\n",
       "    .dataframe thead th {\n",
       "        text-align: right;\n",
       "    }\n",
       "</style>\n",
       "<table border=\"1\" class=\"dataframe\">\n",
       "  <thead>\n",
       "    <tr style=\"text-align: right;\">\n",
       "      <th></th>\n",
       "      <th>Order ID</th>\n",
       "      <th>Order Date</th>\n",
       "      <th>Product Name</th>\n",
       "      <th>Category</th>\n",
       "      <th>Sub-Category</th>\n",
       "      <th>Quantity Sold</th>\n",
       "      <th>Unit Price (₹)</th>\n",
       "      <th>Revenue (₹)</th>\n",
       "      <th>Customer Name</th>\n",
       "      <th>Customer Type</th>\n",
       "      <th>Region</th>\n",
       "      <th>Country</th>\n",
       "      <th>Payment Method</th>\n",
       "    </tr>\n",
       "  </thead>\n",
       "  <tbody>\n",
       "    <tr>\n",
       "      <th>0</th>\n",
       "      <td>FLP-2025-1000</td>\n",
       "      <td>2024-06-27</td>\n",
       "      <td>Nike Air Max</td>\n",
       "      <td>Electronics</td>\n",
       "      <td>TV &amp; Appliances</td>\n",
       "      <td>1</td>\n",
       "      <td>66422.24</td>\n",
       "      <td>66422.24</td>\n",
       "      <td>Customer_382</td>\n",
       "      <td>New Customer</td>\n",
       "      <td>Tamil Nadu</td>\n",
       "      <td>India</td>\n",
       "      <td>Cash on Delivery</td>\n",
       "    </tr>\n",
       "    <tr>\n",
       "      <th>1</th>\n",
       "      <td>FLP-2025-1001</td>\n",
       "      <td>2024-07-31</td>\n",
       "      <td>OnePlus 11</td>\n",
       "      <td>Jewellery</td>\n",
       "      <td>Bracelets</td>\n",
       "      <td>1</td>\n",
       "      <td>57215.66</td>\n",
       "      <td>57215.66</td>\n",
       "      <td>Customer_3</td>\n",
       "      <td>Returning Customer</td>\n",
       "      <td>Maharashtra</td>\n",
       "      <td>India</td>\n",
       "      <td>Cash on Delivery</td>\n",
       "    </tr>\n",
       "    <tr>\n",
       "      <th>2</th>\n",
       "      <td>FLP-2025-1002</td>\n",
       "      <td>2024-03-28</td>\n",
       "      <td>Apple iPhone 15</td>\n",
       "      <td>Electronics</td>\n",
       "      <td>Wearables</td>\n",
       "      <td>2</td>\n",
       "      <td>30712.53</td>\n",
       "      <td>61425.06</td>\n",
       "      <td>Customer_26</td>\n",
       "      <td>New Customer</td>\n",
       "      <td>Uttar Pradesh</td>\n",
       "      <td>India</td>\n",
       "      <td>UPI</td>\n",
       "    </tr>\n",
       "  </tbody>\n",
       "</table>\n",
       "</div>"
      ],
      "text/plain": [
       "        Order ID  Order Date     Product Name     Category     Sub-Category  \\\n",
       "0  FLP-2025-1000  2024-06-27     Nike Air Max  Electronics  TV & Appliances   \n",
       "1  FLP-2025-1001  2024-07-31       OnePlus 11    Jewellery        Bracelets   \n",
       "2  FLP-2025-1002  2024-03-28  Apple iPhone 15  Electronics        Wearables   \n",
       "\n",
       "   Quantity Sold  Unit Price (₹)  Revenue (₹) Customer Name  \\\n",
       "0              1        66422.24     66422.24  Customer_382   \n",
       "1              1        57215.66     57215.66    Customer_3   \n",
       "2              2        30712.53     61425.06   Customer_26   \n",
       "\n",
       "        Customer Type         Region Country    Payment Method  \n",
       "0        New Customer     Tamil Nadu   India  Cash on Delivery  \n",
       "1  Returning Customer    Maharashtra   India  Cash on Delivery  \n",
       "2        New Customer  Uttar Pradesh   India               UPI  "
      ]
     },
     "execution_count": 33,
     "metadata": {},
     "output_type": "execute_result"
    }
   ],
   "source": [
    "df = pd.read_csv(r\"C:\\Users\\Vikas\\Desktop\\FUTURE_DS_01\\Dataset\\flipkart_sales_data.csv\")\n",
    "df.head(3)\n"
   ]
  },
  {
   "cell_type": "code",
   "execution_count": 34,
   "id": "48be8202",
   "metadata": {},
   "outputs": [
    {
     "data": {
      "text/plain": [
       "(1500, 13)"
      ]
     },
     "execution_count": 34,
     "metadata": {},
     "output_type": "execute_result"
    }
   ],
   "source": [
    "df.shape"
   ]
  },
  {
   "cell_type": "code",
   "execution_count": 35,
   "id": "3ad14252",
   "metadata": {},
   "outputs": [
    {
     "name": "stdout",
     "output_type": "stream",
     "text": [
      "<class 'pandas.core.frame.DataFrame'>\n",
      "RangeIndex: 1500 entries, 0 to 1499\n",
      "Data columns (total 13 columns):\n",
      " #   Column          Non-Null Count  Dtype  \n",
      "---  ------          --------------  -----  \n",
      " 0   Order ID        1500 non-null   object \n",
      " 1   Order Date      1500 non-null   object \n",
      " 2   Product Name    1500 non-null   object \n",
      " 3   Category        1500 non-null   object \n",
      " 4   Sub-Category    1500 non-null   object \n",
      " 5   Quantity Sold   1500 non-null   int64  \n",
      " 6   Unit Price (₹)  1500 non-null   float64\n",
      " 7   Revenue (₹)     1500 non-null   float64\n",
      " 8   Customer Name   1500 non-null   object \n",
      " 9   Customer Type   1500 non-null   object \n",
      " 10  Region          1500 non-null   object \n",
      " 11  Country         1500 non-null   object \n",
      " 12  Payment Method  1500 non-null   object \n",
      "dtypes: float64(2), int64(1), object(10)\n",
      "memory usage: 152.5+ KB\n"
     ]
    }
   ],
   "source": [
    "df.info()"
   ]
  },
  {
   "cell_type": "code",
   "execution_count": 47,
   "id": "62a3d623",
   "metadata": {},
   "outputs": [],
   "source": [
    "# Convert Order Date to datetime\n",
    "df[\"Order_Date\"] = pd.to_datetime(df[\"Order_Date\"], errors='coerce')\n",
    "\n",
    "# Separate numerical and categorical columns\n",
    "num_cols = df.select_dtypes(include=['number']).columns\n",
    "cat_cols = df.select_dtypes(exclude=['number']).columns\n",
    "\n",
    "# Fill missing values - Numerical with mean\n",
    "num_imputer = SimpleImputer(strategy='mean')\n",
    "df[num_cols] = num_imputer.fit_transform(df[num_cols])\n",
    "\n",
    "# Fill missing values - Categorical with most frequent\n",
    "cat_imputer = SimpleImputer(strategy='most_frequent')\n",
    "df[cat_cols] = cat_imputer.fit_transform(df[cat_cols])\n",
    "\n",
    "# Remove duplicates\n",
    "df = df.drop_duplicates()\n",
    "\n",
    "# Clean column names (replace spaces and special characters with underscores)\n",
    "df.columns = df.columns.str.replace('[^A-Za-z0-9]+', '_', regex=True)"
   ]
  },
  {
   "cell_type": "code",
   "execution_count": 48,
   "id": "fff8a03a",
   "metadata": {},
   "outputs": [
    {
     "data": {
      "text/plain": [
       "Order_ID          0\n",
       "Order_Date        0\n",
       "Product_Name      0\n",
       "Category          0\n",
       "Sub_Category      0\n",
       "Quantity_Sold     0\n",
       "Unit_Price_       0\n",
       "Revenue_          0\n",
       "Customer_Name     0\n",
       "Customer_Type     0\n",
       "Region            0\n",
       "Country           0\n",
       "Payment_Method    0\n",
       "dtype: int64"
      ]
     },
     "execution_count": 48,
     "metadata": {},
     "output_type": "execute_result"
    }
   ],
   "source": [
    "df.isnull().sum()"
   ]
  },
  {
   "cell_type": "code",
   "execution_count": 50,
   "id": "5ff96694",
   "metadata": {},
   "outputs": [
    {
     "data": {
      "text/plain": [
       "(1481, 13)"
      ]
     },
     "execution_count": 50,
     "metadata": {},
     "output_type": "execute_result"
    }
   ],
   "source": [
    "df.shape"
   ]
  },
  {
   "cell_type": "markdown",
   "id": "89952895",
   "metadata": {},
   "source": [
    "# Remove outliers using IQR"
   ]
  },
  {
   "cell_type": "code",
   "execution_count": 53,
   "id": "801b6189",
   "metadata": {},
   "outputs": [],
   "source": [
    "\n",
    "# Remove outliers using IQR method\n",
    "for col in num_cols:\n",
    "    Q1 = df[col].quantile(0.25)\n",
    "    Q3 = df[col].quantile(0.75)\n",
    "    IQR = Q3 - Q1\n",
    "    lower_bound = Q1 - 1.5 * IQR\n",
    "    upper_bound = Q3 + 1.5 * IQR\n",
    "    df = df[(df[col] >= lower_bound) & (df[col] <= upper_bound)]\n"
   ]
  },
  {
   "cell_type": "code",
   "execution_count": 54,
   "id": "6b6ea28f",
   "metadata": {},
   "outputs": [],
   "source": [
    "\n",
    "# Scale numerical columns using MinMaxScaler\n",
    "scaler = MinMaxScaler()\n",
    "df[num_cols] = scaler.fit_transform(df[num_cols])"
   ]
  },
  {
   "cell_type": "code",
   "execution_count": 55,
   "id": "5537c2a8",
   "metadata": {},
   "outputs": [
    {
     "data": {
      "text/plain": [
       "(1460, 13)"
      ]
     },
     "execution_count": 55,
     "metadata": {},
     "output_type": "execute_result"
    }
   ],
   "source": [
    "df.shape"
   ]
  },
  {
   "cell_type": "code",
   "execution_count": 56,
   "id": "4fae387e",
   "metadata": {},
   "outputs": [
    {
     "data": {
      "image/png": "[encoded data removed]",
      "text/plain": [
       "<Figure size 1000x500 with 1 Axes>"
      ]
     },
     "metadata": {},
     "output_type": "display_data"
    }
   ],
   "source": [
    "plt.figure(figsize=(10, 5))\n",
    "sns.boxplot(data=df[num_cols])\n",
    "plt.title(\"Boxplot of Numerical Columns After Outlier Removal & Scaling\")\n",
    "plt.xticks(rotation=45)\n",
    "plt.tight_layout()\n",
    "plt.show()"
   ]
  },
  {
   "cell_type": "code",
   "execution_count": 57,
   "id": "8c6c1382",
   "metadata": {},
   "outputs": [
    {
     "data": {
      "image/png": "[encoded data removed]",
      "text/plain": [
       "<Figure size 800x500 with 2 Axes>"
      ]
     },
     "metadata": {},
     "output_type": "display_data"
    }
   ],
   "source": [
    "plt.figure(figsize=(8, 5))\n",
    "sns.heatmap(df[num_cols].corr(), annot=True, cmap=\"coolwarm\", fmt=\".2f\")\n",
    "plt.title(\"Correlation Heatmap\")\n",
    "plt.tight_layout()\n",
    "plt.show()"
   ]
  },
  {
   "cell_type": "code",
   "execution_count": 59,
   "id": "021d66b2",
   "metadata": {},
   "outputs": [
    {
     "name": "stdout",
     "output_type": "stream",
     "text": [
      "✅ Data cleaned, scaled, and saved as flipkart_sales_cleaned_scaled.csv\n"
     ]
    }
   ],
   "source": [
    "# Save cleaned and scaled dataset\n",
    "df.to_csv(\"flipkart_sales_cleaned_scaled.csv\", index=False)\n",
    "\n",
    "print(\"✅ Data cleaned, scaled, and saved as flipkart_sales_cleaned_scaled.csv\")"
   ]
  }
 ],
 "metadata": {
  "kernelspec": {
   "display_name": "Python 3",
   "language": "python",
   "name": "python3"
  },
  "language_info": {
   "codemirror_mode": {
    "name": "ipython",
    "version": 3
   },
   "file_extension": ".py",
   "mimetype": "text/x-python",
   "name": "python",
   "nbconvert_exporter": "python",
   "pygments_lexer": "ipython3",
   "version": "3.13.2"
  }
 },
 "nbformat": 4,
 "nbformat_minor": 5
}
